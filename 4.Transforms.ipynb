{
 "cells": [
  {
   "cell_type": "code",
   "execution_count": 1,
   "metadata": {
    "collapsed": false,
    "jupyter": {
     "outputs_hidden": false
    }
   },
   "outputs": [],
   "source": [
    "%matplotlib inline"
   ]
  },
  {
   "cell_type": "markdown",
   "metadata": {},
   "source": [
    "\n",
    "[Learn the Basics](intro.html) ||\n",
    "[Quickstart](quickstart_tutorial.html) ||\n",
    "[Tensors](tensorqs_tutorial.html) ||\n",
    "[Datasets & DataLoaders](data_tutorial.html) ||\n",
    "**Transforms** ||\n",
    "[Build Model](buildmodel_tutorial.html) ||\n",
    "[Autograd](autogradqs_tutorial.html) ||\n",
    "[Optimization](optimization_tutorial.html) ||\n",
    "[Save & Load Model](saveloadrun_tutorial.html)\n",
    "\n",
    "# Transforms\n",
    "\n",
    "数据并不总是以其最终处理形式呈现，而这些最终处理形式是机器学习算法所需要的。我们使用转换(transforms) 来对数据执行一些操作，使其适合训练。\n",
    "\n",
    "所有的 TorchVision 数据集都有两个参数 - transform 用于修改特征，target_transform 用于修改标签 - 它们接受包含转换逻辑的可调用函数。[`torchvision.transforms`](https://pytorch.org/vision/stable/transforms.html) 模块提供了几个常用的转换方法。\n",
    "\n",
    "FashionMNIST 的特征以PIL图像格式呈现，标签为整数。对于训练，我们需要将特征转换为归一化张量，将标签转换为一位有效编码张量。为了进行这些转换，我们使用了`ToTensor` 和` Lambda` 转换方法。\n"
   ]
  },
  {
   "cell_type": "code",
   "execution_count": 3,
   "metadata": {
    "collapsed": false,
    "jupyter": {
     "outputs_hidden": false
    }
   },
   "outputs": [],
   "source": [
    "import torch\n",
    "from torchvision import datasets\n",
    "from torchvision.transforms import ToTensor, Lambda\n",
    "\n",
    "ds = datasets.FashionMNIST(\n",
    "    root=\"data\",\n",
    "    train=True,\n",
    "    download=True,\n",
    "    transform=ToTensor(),\n",
    "    target_transform=Lambda(lambda y: torch.zeros(10, dtype=torch.float).scatter_(0, torch.tensor(y), value=1))\n",
    ")"
   ]
  },
  {
   "cell_type": "markdown",
   "metadata": {},
   "source": [
    "## ToTensor()\n",
    "\n",
    "[ToTensor](https://pytorch.org/vision/stable/transforms.html#torchvision.transforms.ToTensor)\n",
    "converts a PIL image or NumPy ``ndarray`` into a ``FloatTensor``. and scales\n",
    "the image's pixel intensity values in the range [0., 1.]\n",
    "\n",
    "\n"
   ]
  },
  {
   "cell_type": "markdown",
   "metadata": {},
   "source": [
    "## Lambda Transforms\n",
    "\n",
    "Lambda transforms apply any user-defined lambda function. Here, we define a function\n",
    "to turn the integer into a one-hot encoded tensor.\n",
    "It first creates a zero tensor of size 10 (the number of labels in our dataset) and calls\n",
    "[scatter_](https://pytorch.org/docs/stable/generated/torch.Tensor.scatter_.html) which assigns a\n",
    "``value=1`` on the index as given by the label ``y``.\n",
    "\n"
   ]
  },
  {
   "cell_type": "code",
   "execution_count": 4,
   "metadata": {
    "collapsed": false,
    "jupyter": {
     "outputs_hidden": false
    }
   },
   "outputs": [],
   "source": [
    "target_transform = Lambda(lambda y: torch.zeros(\n",
    "    10, dtype=torch.float).scatter_(dim=0, index=torch.tensor(y), value=1))"
   ]
  },
  {
   "cell_type": "markdown",
   "metadata": {},
   "source": [
    "这段代码使用了PyTorch中的Lambda函数，它接受一个函数并将其用作转换。该函数将标签y转换为一个大小为10的张量，其中所有元素为0，除了索引为y的元素，该元素的值为1。这个过程称为一位有效编码(one-hot encoding)，在机器学习中广泛用于将分类标签转换为可供神经网络使用的格式。\n",
    "\n",
    "具体来说，这段代码使用了以下步骤来实现上述逻辑：\n",
    "\n",
    "1. torch.zeros(10, dtype=torch.float)：创建一个大小为10，所有元素为0的张量。\n",
    "\n",
    "2. torch.tensor(y)：将输入的标签y转换为PyTorch张量。\n",
    "\n",
    "3. scatter_(0, torch.tensor(y), value=1)：将1填充到索引为y的位置，并在原地修改张量。这里的第一个参数0表示在第一维上进行索引，所以这个张量的大小必须至少为(10, y+1)。\n",
    "\n",
    "最终输出的张量是大小为10的一位有效编码张量，其中对应标签y的位置为1，其他位置为0"
   ]
  },
  {
   "cell_type": "markdown",
   "metadata": {},
   "source": [
    "--------------\n",
    "\n",
    "\n"
   ]
  },
  {
   "cell_type": "markdown",
   "metadata": {},
   "source": [
    "### Further Reading\n",
    "- [torchvision.transforms API](https://pytorch.org/vision/stable/transforms.html)\n",
    "\n"
   ]
  }
 ],
 "metadata": {
  "kernelspec": {
   "display_name": "Python 3 (ipykernel)",
   "language": "python",
   "name": "python3"
  },
  "language_info": {
   "codemirror_mode": {
    "name": "ipython",
    "version": 3
   },
   "file_extension": ".py",
   "mimetype": "text/x-python",
   "name": "python",
   "nbconvert_exporter": "python",
   "pygments_lexer": "ipython3",
   "version": "3.9.16"
  }
 },
 "nbformat": 4,
 "nbformat_minor": 4
}
